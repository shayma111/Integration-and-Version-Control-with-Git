{
  "nbformat": 4,
  "nbformat_minor": 0,
  "metadata": {
    "colab": {
      "provenance": [],
      "authorship_tag": "ABX9TyMfuPMB+63FJFae9FTuYZHr",
      "include_colab_link": true
    },
    "kernelspec": {
      "name": "python3",
      "display_name": "Python 3"
    },
    "language_info": {
      "name": "python"
    }
  },
  "cells": [
    {
      "cell_type": "markdown",
      "metadata": {
        "id": "view-in-github",
        "colab_type": "text"
      },
      "source": [
        "<a href=\"https://colab.research.google.com/github/shayma111/Integration-and-Version-Control-with-Git/blob/master/Python_basics.ipynb\" target=\"_parent\"><img src=\"https://colab.research.google.com/assets/colab-badge.svg\" alt=\"Open In Colab\"/></a>"
      ]
    },
    {
      "cell_type": "code",
      "execution_count": null,
      "metadata": {
        "colab": {
          "base_uri": "https://localhost:8080/"
        },
        "id": "BSWMaFJ4pUXK",
        "outputId": "77149900-a9fb-4640-a755-a1722188be8a"
      },
      "outputs": [
        {
          "output_type": "stream",
          "name": "stdout",
          "text": [
            " Welcome to the Guess the Number game! \n",
            " I'm thinking of a number between 1 and 100. Can you guess what it is?\n"
          ]
        }
      ],
      "source": [
        "import random\n",
        "print(\" Welcome to the Guess the Number game!\",\"\\n\",\"I'm thinking of a number between 1 and 100. Can you guess what it is?\")\n",
        "x=int(input(\"Enter your guess: \"))\n",
        "y=random.randint(1,100)\n",
        "while x!=y :\n",
        "      if x<y:\n",
        "         print(\"Your guess is too low. Guess again.\")\n",
        "         x=int(input(\"Enter your guess: \"))\n",
        "      if x>y:\n",
        "         print(\"Your guess is too high. Guess again.\")\n",
        "         x=int(input(\"Enter your guess: \"))\n",
        "print(\"Congratulations! You guessed the number correctly!\")"
      ]
    }
  ]
}